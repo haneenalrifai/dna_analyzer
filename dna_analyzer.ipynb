{
 "cells": [
  {
   "cell_type": "code",
<<<<<<< HEAD
   "execution_count": 1,
=======
   "execution_count": 13,
>>>>>>> 5f73200 (Cleaned code: removed time and progress tracking)
   "id": "9486b2c6",
   "metadata": {},
   "outputs": [],
   "source": [
    "from Bio import SeqIO\n",
    "import statistics\n",
<<<<<<< HEAD
    "import time\n",
=======
>>>>>>> 5f73200 (Cleaned code: removed time and progress tracking)
    "import csv\n",
    "import os\n",
    "class DNAFile:\n",
    "    \"\"\"\n",
    "    A class for analyzing DNA sequences from a FASTA file.\n",
    "    It calculates per-sequence GC content and summary statistics.\n",
    "    \"\"\"\n",
    "    def __init__(self, filepath, name=None):\n",
    "        self.filepath = filepath\n",
    "        self.name = name  # store user-provided name\n",
    "        self.sequences = [str(record.seq).upper() for record in SeqIO.parse(filepath, \"fasta\")]\n",
    "\n",
    "    def count_sequences(self):\n",
    "        return len(self.sequences)\n",
    "\n",
    "    def lengths(self):\n",
    "        return [len(seq) for seq in self.sequences]\n",
    "\n",
    "    def gc_content(self, seq):\n",
    "        if not seq:\n",
    "            return 0\n",
    "        gc = seq.count(\"G\") + seq.count(\"C\")\n",
    "        return round((gc / len(seq)) * 100, 2)\n",
    "    def average_gc_content(self):\n",
    "        if not self.sequences:\n",
    "            return 0\n",
    "        return round(statistics.mean(self.gc_content(seq) for seq in self.sequences), 2)\n",
    "\n",
<<<<<<< HEAD
    "    def analyze(self, report_every=1000):\n",
    "        print(\"🧬 Starting analysis...\")\n",
    "        start = time.time()\n",
=======
    "    def analyze(self):\n",
    "        print(\"🧬 Starting analysis...\")\n",
    "       \n",
>>>>>>> 5f73200 (Cleaned code: removed time and progress tracking)
    "        lengths = []\n",
    "        gc_contents = []\n",
    "        lengths = self.lengths()\n",
    "        total = len(lengths)\n",
<<<<<<< HEAD
    "        for i, seq in enumerate(self.sequences):\n",
    "            if (i + 1) % report_every == 0:\n",
    "                print(f\"Processed {i + 1}/{total} sequences...\")\n",
=======
    "        \n",
>>>>>>> 5f73200 (Cleaned code: removed time and progress tracking)
    "        total = len(lengths)\n",
    "        longest = max(lengths) if lengths else 0\n",
    "        shortest = min(lengths) if lengths else 0\n",
    "        avg_len = statistics.mean(lengths) if lengths else 0\n",
    "        median_len = statistics.median(lengths) if lengths else 0\n",
    "        avg_gc = statistics.mean(gc_contents) if gc_contents else 0\n",
<<<<<<< HEAD
    "        elapsed = time.time() - start\n",
    "        elapsed = time.time() - start\n",
=======
    "        \n",
>>>>>>> 5f73200 (Cleaned code: removed time and progress tracking)
    "        print(\"\\n✅ Analysis complete!\")\n",
    "        print(f\"Total sequences: {total}\")\n",
    "        print(f\"Longest: {max(lengths)} bp\")\n",
    "        print(f\"Shortest: {min(lengths)} bp\")\n",
    "        print(f\"Average length: {statistics.mean(lengths):.2f} bp\")\n",
    "        print(f\"Median length: {statistics.median(lengths)} bp\")\n",
    "        print(f\"Average GC content: {self.average_gc_content()}%\")\n",
<<<<<<< HEAD
    "        print(f\"Time elapsed: {elapsed:.2f} seconds\")\n",
=======
    "        \n",
>>>>>>> 5f73200 (Cleaned code: removed time and progress tracking)
    "        # Save results for later\n",
    "        self.results = [\n",
    "            [\"Total Sequences\", total],\n",
    "            [\"Longest\", longest],\n",
    "            [\"Shortest\", shortest],\n",
    "            [\"Average Length\", avg_len],\n",
    "            [\"Median Length\", median_len],\n",
    "            [\"Average GC Content\", avg_gc],\n",
<<<<<<< HEAD
    "            [\"Time Elapsed (seconds)\", elapsed]\n",
=======
    "            \n",
>>>>>>> 5f73200 (Cleaned code: removed time and progress tracking)
    "        ]\n",
    "        # 🔽 Call the CSV saving function here\n",
    "        self.save_to_csv()\n",
    "    _file_counter = 0  # class variable to count how many results we saved    \n",
    "    def save_to_csv(self, output_file=None):\n",
    "        # 🔹 If no file name given, build one automatically based on the FASTA name\n",
    "        if output_file is None:\n",
    "            # Increment the class counter\n",
    "             DNAFile._file_counter += 1\n",
    "            # Use user's name if provided, otherwise make a generic name\n",
    "             if self.name:\n",
    "                 base_name = self.name.replace(\" \", \"_\")  # clean spaces\n",
    "             else:\n",
    "                 base_name = f\"result_{DNAFile._file_counter}\"\n",
    "\n",
    "             output_file = f\"{base_name}.csv\"\n",
    "        # Save in the same folder as the FASTA file\n",
    "        folder = os.path.dirname(self.filepath)\n",
    "        full_path = os.path.join(folder, output_file)  \n",
    "            \n",
    "        with open(output_file, \"w\", newline=\"\") as f:\n",
    "            writer = csv.writer(f)\n",
    "            writer.writerow([\"Sequence_ID\", \"Length\", \"GC_Content(%)\"])\n",
    "            for record in SeqIO.parse(self.filepath, \"fasta\"):\n",
    "                seq = str(record.seq).upper()\n",
    "                writer.writerow([record.id, len(seq), self.gc_content(seq)])    \n",
    "        print(f\"\\n💾 Results saved to '{os.path.abspath(full_path)}'\")"
   ]
  },
  {
   "cell_type": "code",
<<<<<<< HEAD
   "execution_count": 2,
   "id": "1f5dbe15",
   "metadata": {},
   "outputs": [
    {
     "name": "stdout",
     "output_type": "stream",
     "text": [
      "🧬 Starting analysis...\n",
      "\n",
      "✅ Analysis complete!\n",
      "Total sequences: 1\n",
      "Longest: 1608 bp\n",
      "Shortest: 1608 bp\n",
      "Average length: 1608.00 bp\n",
      "Median length: 1608 bp\n",
      "Average GC content: 40.11%\n",
      "Time elapsed: 0.00 seconds\n",
      "\n",
      "💾 Results saved to 'C:\\Users\\QBS-OM\\OneDrive\\Desktop\\AI in Biomedical Sciences course\\dna1.csv'\n"
     ]
    }
   ],
   "source": [
    "dna1 = DNAFile(r\"C:\\Users\\QBS-OM\\OneDrive\\Desktop\\AI in Biomedical Sciences course\\gene.fasta\",name=\"dna1\")\n",
    "dna1.analyze(report_every=1000)"
   ]
  },
  {
   "cell_type": "code",
   "execution_count": 3,
=======
   "execution_count": 14,
>>>>>>> 5f73200 (Cleaned code: removed time and progress tracking)
   "id": "bc6e14d0",
   "metadata": {},
   "outputs": [
    {
     "name": "stdout",
     "output_type": "stream",
     "text": [
      "🧬 Starting analysis...\n",
      "\n",
      "✅ Analysis complete!\n",
      "Total sequences: 10\n",
      "Longest: 705 bp\n",
      "Shortest: 684 bp\n",
      "Average length: 689.40 bp\n",
      "Median length: 684.0 bp\n",
      "Average GC content: 41.91%\n",
<<<<<<< HEAD
      "Time elapsed: 0.00 seconds\n",
      "\n",
      "💾 Results saved to 'C:\\Users\\QBS-OM\\OneDrive\\Desktop\\Geneious\\Sample Importable Files\\result_2.csv'\n"
=======
      "\n",
      "💾 Results saved to 'C:\\Users\\QBS-OM\\OneDrive\\Desktop\\Geneious\\Sample Importable Files\\result_1.csv'\n"
>>>>>>> 5f73200 (Cleaned code: removed time and progress tracking)
     ]
    }
   ],
   "source": [
    "dna2=DNAFile(r\"C:\\Users\\QBS-OM\\OneDrive\\Desktop\\Geneious\\Sample Importable Files\\sampleDNA.fasta\")\n",
<<<<<<< HEAD
    "dna2.analyze(report_every=1000)"
=======
    "dna2.analyze()"
>>>>>>> 5f73200 (Cleaned code: removed time and progress tracking)
   ]
  },
  {
   "cell_type": "code",
<<<<<<< HEAD
   "execution_count": 4,
=======
   "execution_count": 16,
>>>>>>> 5f73200 (Cleaned code: removed time and progress tracking)
   "id": "70355a48",
   "metadata": {},
   "outputs": [
    {
     "name": "stdout",
     "output_type": "stream",
     "text": [
      "🧬 Starting analysis...\n",
      "\n",
      "✅ Analysis complete!\n",
      "Total sequences: 5\n",
      "Longest: 499 bp\n",
      "Shortest: 499 bp\n",
      "Average length: 499.00 bp\n",
      "Median length: 499 bp\n",
      "Average GC content: 51.06%\n",
<<<<<<< HEAD
      "Time elapsed: 0.00 seconds\n",
      "\n",
      "💾 Results saved to 'C:\\Users\\QBS-OM\\OneDrive\\Desktop\\Geneious\\Sample Importable Files\\result_3.csv'\n"
=======
      "\n",
      "💾 Results saved to 'C:\\Users\\QBS-OM\\OneDrive\\Desktop\\Geneious\\Sample Importable Files\\result_2.csv'\n"
>>>>>>> 5f73200 (Cleaned code: removed time and progress tracking)
     ]
    }
   ],
   "source": [
    "dna3=DNAFile(r\"C:\\Users\\QBS-OM\\OneDrive\\Desktop\\Geneious\\Sample Importable Files\\sampleAlignment.fasta\")\n",
<<<<<<< HEAD
    "dna3.analyze(report_every=1000)"
=======
    "dna3.analyze()"
>>>>>>> 5f73200 (Cleaned code: removed time and progress tracking)
   ]
  },
  {
   "cell_type": "code",
<<<<<<< HEAD
   "execution_count": 5,
=======
   "execution_count": 17,
>>>>>>> 5f73200 (Cleaned code: removed time and progress tracking)
   "id": "299d833f",
   "metadata": {},
   "outputs": [
    {
     "name": "stdout",
     "output_type": "stream",
     "text": [
      "🧬 Starting analysis...\n",
      "\n",
      "✅ Analysis complete!\n",
      "Total sequences: 22\n",
      "Longest: 49218974 bp\n",
      "Shortest: 10809 bp\n",
      "Average length: 18391401.59 bp\n",
      "Median length: 18302362.5 bp\n",
      "Average GC content: 32.6%\n",
<<<<<<< HEAD
      "Time elapsed: 0.00 seconds\n",
=======
>>>>>>> 5f73200 (Cleaned code: removed time and progress tracking)
      "\n",
      "💾 Results saved to 'C:\\Users\\QBS-OM\\OneDrive\\Desktop\\scaly-foot gastropod (Chrysomallon squamiferum)\\scaly_foot_gastropod.csv'\n"
     ]
    }
   ],
   "source": [
    "dna_scaly_foot_gastropod=DNAFile(r\"C:\\Users\\QBS-OM\\OneDrive\\Desktop\\scaly-foot gastropod (Chrysomallon squamiferum)\\GCA_012295275.1_Csq_v1.1.fa_genomic.fna\", name=\"scaly_foot_gastropod\")\n",
<<<<<<< HEAD
    "dna_scaly_foot_gastropod.analyze(report_every=1000)"
=======
    "dna_scaly_foot_gastropod.analyze()"
>>>>>>> 5f73200 (Cleaned code: removed time and progress tracking)
   ]
  },
  {
   "cell_type": "code",
<<<<<<< HEAD
   "execution_count": 7,
=======
   "execution_count": 18,
>>>>>>> 5f73200 (Cleaned code: removed time and progress tracking)
   "id": "e538c63f",
   "metadata": {},
   "outputs": [
    {
     "name": "stdout",
     "output_type": "stream",
     "text": [
      "🧬 Starting analysis...\n",
      "\n",
      "✅ Analysis complete!\n",
      "Total sequences: 1\n",
      "Longest: 1608 bp\n",
      "Shortest: 1608 bp\n",
      "Average length: 1608.00 bp\n",
      "Median length: 1608 bp\n",
      "Average GC content: 40.11%\n",
<<<<<<< HEAD
      "Time elapsed: 0.00 seconds\n",
=======
>>>>>>> 5f73200 (Cleaned code: removed time and progress tracking)
      "\n",
      "💾 Results saved to 'C:\\Users\\QBS-OM\\OneDrive\\Desktop\\my github projects\\dna analyzer\\example.csv'\n"
     ]
    }
   ],
   "source": [
    "example= DNAFile(r\"C:\\Users\\QBS-OM\\OneDrive\\Desktop\\my github projects\\dna analyzer\\gene.fasta\", name=\"example\")\n",
<<<<<<< HEAD
    "example.analyze(report_every=1000)"
=======
    "example.analyze()"
>>>>>>> 5f73200 (Cleaned code: removed time and progress tracking)
   ]
  }
 ],
 "metadata": {
  "kernelspec": {
   "display_name": "base",
   "language": "python",
   "name": "python3"
  },
  "language_info": {
   "codemirror_mode": {
    "name": "ipython",
    "version": 3
   },
   "file_extension": ".py",
   "mimetype": "text/x-python",
   "name": "python",
   "nbconvert_exporter": "python",
   "pygments_lexer": "ipython3",
   "version": "3.12.7"
  }
 },
 "nbformat": 4,
 "nbformat_minor": 5
}
